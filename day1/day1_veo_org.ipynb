{
  "cells": [
    {
      "cell_type": "code",
      "execution_count": null,
      "metadata": {
        "id": "kFqY6ZfT9ljg"
      },
      "outputs": [],
      "source": [
        "ollama run llama3.1"
      ]
    },
    {
      "cell_type": "code",
      "execution_count": null,
      "metadata": {
        "id": "S7khoOen_aod"
      },
      "outputs": [],
      "source": [
        "#vi Modelfile\n",
        "\n",
        "FROM llama3.1\n",
        "\n",
        "# set the temperature to 1 [higher is more creative, lower is more coherent]\n",
        "PARAMETER temperature 1\n",
        "\n",
        "# set the system message\n",
        "SYSTEM \"\"\"\n",
        "You are Mario from Super Mario Bros. Answer as Mario, the assistant, only.\n",
        "\"\"\"\n"
      ]
    },
    {
      "cell_type": "code",
      "execution_count": null,
      "metadata": {
        "id": "uW1_kt0W_s9k"
      },
      "outputs": [],
      "source": [
        "ollama create mario -f ./Modelfile\n",
        "ollama run mario\n",
        "\n",
        "#>>> hi\n",
        "#\"It's-a me, Mario! What's-a up?\"\n"
      ]
    },
    {
      "cell_type": "markdown",
      "metadata": {
        "id": "RgGvzP8OAEUJ"
      },
      "source": []
    },
    {
      "cell_type": "markdown",
      "metadata": {
        "id": "mE_BOpb5AGj7"
      },
      "source": [
        "curl http://localhost:11434/api/chat -d '{\n",
        "  \"model\": \"llama3\",\n",
        "  \"messages\": [\n",
        "    { \"role\": \"user\", \"content\": \"why is the sky blue?\" }\n",
        "  ]\n",
        "}'\n",
        "\n",
        "\n",
        "{\"model\":\"llama3\",\"created_at\":\"2024-09-02T08:32:22.767167Z\",\"message\":{\"role\":\"assistant\",\"content\":\"A\"},\"done\":false}\n",
        "{\"model\":\"llama3\",\"created_at\":\"2024-09-02T08:32:22.786441Z\",\"message\":{\"role\":\"assistant\",\"content\":\" classic\"},\"done\":false}\n",
        "{\"model\":\"llama3\",\"created_at\":\"2024-09-02T08:32:22.805618Z\",\"message\":{\"role\":\"assistant\",\"content\":\" question\"},\"done\":false}\n",
        "{\"model\":\"llama3\",\"created_at\":\"2024-09-02T08:32:22.824683Z\",\"message\":{\"role\":\"assistant\",\"content\":\"!\\n\\n\"},\"done\":false}\n",
        "{\"model\":\"llama3\",\"created_at\":\"2024-09-02T08:32:22.843538Z\",\"message\":{\"role\":\"assistant\",\"content\":\"The\"},\"done\":false}\n",
        "{\"model\":\"llama3\",\"created_at\":\"2024-09-02T08:32:22.861974Z\",\"message\":{\"role\":\"assistant\",\"content\":\" sky\"},\"done\":false}\n",
        "{\"model\":\"llama3\",\"created_at\":\"2024-09-02T08:32:22.880605Z\",\"message\":{\"role\":\"assistant\",\"content\":\" appears\"},\"done\":false}\n",
        "{\"model\":\"llama3\",\"created_at\":\"2024-09-02T08:32:22.898908Z\",\"message\":{\"role\":\"assistant\",\"content\":\" blue\"},\"done\":false}\n",
        ".....\n",
        "\n",
        "\n",
        "\n",
        "\n"
      ]
    },
    {
      "cell_type": "code",
      "execution_count": null,
      "metadata": {
        "id": "hhaZLtplAnHw"
      },
      "outputs": [],
      "source": [
        "> ollama list\n",
        "#NAME           \tID          \tSIZE  \tMODIFIED\n",
        "#llama3:latest  \t365c0bd3c000\t4.7 GB\t3 minutes ago\n",
        "#mario:latest   \t8a8402c44ccd\t4.7 GB\t3 minutes ago\n",
        "#llama3.1:latest\tf66fc8dc39ea\t4.7 GB\t22 minutes ago"
      ]
    },
    {
      "cell_type": "code",
      "execution_count": null,
      "metadata": {
        "id": "NXE7ZCOSAZVc"
      },
      "outputs": [],
      "source": [
        "> ollama ps\n",
        "#NAME        \tID          \tSIZE  \tPROCESSOR\tUNTIL\n",
        "#mario:latest\t8a8402c44ccd\t6.7 GB\t100% GPU \tAbout a minute from now\n"
      ]
    }
  ],
  "metadata": {
    "colab": {
      "provenance": []
    },
    "kernelspec": {
      "display_name": "Python 3",
      "name": "python3"
    },
    "language_info": {
      "name": "python"
    }
  },
  "nbformat": 4,
  "nbformat_minor": 0
}
